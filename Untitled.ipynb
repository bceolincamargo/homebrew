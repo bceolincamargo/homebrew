{
 "cells": [
  {
   "cell_type": "code",
   "execution_count": 7,
   "metadata": {},
   "outputs": [
    {
     "name": "stdout",
     "output_type": "stream",
     "text": [
      "{'_id': ObjectId('5e7712477406d5768caafa87'), 'beername': 'beertest', 'beerstyle': 'ipa', 'description': 'description', 'created': datetime.datetime(2020, 3, 22, 7, 22, 47, 199000), 'finished': ''}\n",
      "elif\n"
     ]
    }
   ],
   "source": [
    "import pymongo\n",
    "conn = pymongo.MongoClient('mongodb://192.168.20.15', 27017)\n",
    "db = conn.brewpiless\n",
    "collection = db.beer    \n",
    " \n",
    "beername = 'beertest'\n",
    "beerstyle = ''\n",
    "ret = ''      \n",
    "if beername == '' and beerstyle == '':\n",
    "   #busca tudo  \n",
    "   ret = list(collection.find())\n",
    "   if ret:\n",
    "       print(ret)\n",
    "       print('if')\n",
    "elif beername != '':\n",
    "    #busca NAME           \n",
    "    ret = dict(collection.find_one({\"beername\": beername}))\n",
    "    if ret:\n",
    "       print(ret)          \n",
    "       print('elif')"
   ]
  },
  {
   "cell_type": "code",
   "execution_count": null,
   "metadata": {},
   "outputs": [],
   "source": []
  }
 ],
 "metadata": {
  "kernelspec": {
   "display_name": "Python 3",
   "language": "python",
   "name": "python3"
  },
  "language_info": {
   "codemirror_mode": {
    "name": "ipython",
    "version": 3
   },
   "file_extension": ".py",
   "mimetype": "text/x-python",
   "name": "python",
   "nbconvert_exporter": "python",
   "pygments_lexer": "ipython3",
   "version": "3.7.4"
  }
 },
 "nbformat": 4,
 "nbformat_minor": 4
}
