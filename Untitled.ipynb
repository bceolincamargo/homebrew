{
 "cells": [
  {
   "cell_type": "code",
   "execution_count": 2,
   "metadata": {},
   "outputs": [],
   "source": [
    "import pymongo\n",
    "conn = pymongo.MongoClient('mongodb://127.0.0.1', 27017)\n",
    "db = conn.brewpiless\n",
    "\n",
    "\n",
    "crecipes = db.recipes    \n",
    "cgrains = db.grains\n",
    "chops = db.hops\n",
    "cyeasts = db.yeast\n",
    "ret = ''   \n",
    "grainlist = []\n",
    "hoplist = []\n",
    "yeastlist = []"
   ]
  },
  {
   "cell_type": "code",
   "execution_count": 18,
   "metadata": {},
   "outputs": [
    {
     "name": "stdout",
     "output_type": "stream",
     "text": [
      "{}\n",
      "<class 'dict'>\n",
      "[ObjectId('5e9e6bb5de8f61351826a6af')]\n"
     ]
    }
   ],
   "source": [
    "\n",
    "from bson.objectid import ObjectId \n",
    "r = chops.find_one({'_id': ObjectId('5e9e6bb5de8f61351826a6af')}, {'_id':1, 'Hops':1})\n",
    "print(r)\n",
    "print(type(r))\n",
    "for nameh in r.values():                        \n",
    "    print(nameh)\n",
    "    hoplist.append(nameh)\n",
    "print(hoplist)"
   ]
  },
  {
   "cell_type": "code",
   "execution_count": null,
   "metadata": {},
   "outputs": [],
   "source": []
  }
 ],
 "metadata": {
  "kernelspec": {
   "display_name": "Python 3",
   "language": "python",
   "name": "python3"
  },
  "language_info": {
   "codemirror_mode": {
    "name": "ipython",
    "version": 3
   },
   "file_extension": ".py",
   "mimetype": "text/x-python",
   "name": "python",
   "nbconvert_exporter": "python",
   "pygments_lexer": "ipython3",
   "version": "3.7.6"
  }
 },
 "nbformat": 4,
 "nbformat_minor": 4
}
