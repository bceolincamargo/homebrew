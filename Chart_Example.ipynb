{
 "cells": [
  {
   "cell_type": "code",
   "execution_count": null,
   "metadata": {},
   "outputs": [],
   "source": [
    "import pymongo\n",
    "conn = pymongo.MongoClient('mongodb://192.168.20.15', 27017)\n",
    "db = conn.brewpiless\n",
    "collection = db.beer    \n",
    " \n",
    "beername = 'beertest'\n",
    "beerstyle = ''\n",
    "ret = ''      \n",
    "if beername == '' and beerstyle == '':\n",
    "   #busca tudo  \n",
    "   ret = list(collection.find())\n",
    "   if ret:\n",
    "       print(ret)\n",
    "       print('if')\n",
    "elif beername != '':\n",
    "    #busca NAME           \n",
    "    ret = dict(collection.find_one({\"beername\": beername}))\n",
    "    if ret:\n",
    "       print(ret)          \n",
    "       print('elif')"
   ]
  },
  {
   "cell_type": "code",
   "execution_count": 1,
   "metadata": {},
   "outputs": [],
   "source": [
    "import pymongo\n",
    "import numpy as np\n",
    "import pandas as pd\n",
    "conn = pymongo.MongoClient('mongodb://192.168.20.15', 27017)\n",
    "db = conn.brewpiless\n",
    "collection = db.brewpiless    \n",
    "    \n",
    "#convert entire collection to Pandas dataframe\n",
    "dfbrew = pd.DataFrame(list(collection.find()))"
   ]
  },
  {
   "cell_type": "code",
   "execution_count": 2,
   "metadata": {},
   "outputs": [
    {
     "data": {
      "text/html": [
       "<div>\n",
       "<style scoped>\n",
       "    .dataframe tbody tr th:only-of-type {\n",
       "        vertical-align: middle;\n",
       "    }\n",
       "\n",
       "    .dataframe tbody tr th {\n",
       "        vertical-align: top;\n",
       "    }\n",
       "\n",
       "    .dataframe thead th {\n",
       "        text-align: right;\n",
       "    }\n",
       "</style>\n",
       "<table border=\"1\" class=\"dataframe\">\n",
       "  <thead>\n",
       "    <tr style=\"text-align: right;\">\n",
       "      <th></th>\n",
       "      <th>_id</th>\n",
       "      <th>beername</th>\n",
       "      <th>created</th>\n",
       "      <th>beertemp</th>\n",
       "      <th>fridgetemp</th>\n",
       "      <th>beerset</th>\n",
       "      <th>fridgeset</th>\n",
       "      <th>temproom</th>\n",
       "      <th>tempaux</th>\n",
       "      <th>externalvolt</th>\n",
       "      <th>tempmode</th>\n",
       "      <th>modeinint</th>\n",
       "      <th>finished</th>\n",
       "    </tr>\n",
       "  </thead>\n",
       "  <tbody>\n",
       "    <tr>\n",
       "      <th>0</th>\n",
       "      <td>5e770737133baf3112ece588</td>\n",
       "      <td>beertest</td>\n",
       "      <td>22/03/2020, 17:34:44</td>\n",
       "      <td>22.9</td>\n",
       "      <td>24.1</td>\n",
       "      <td>21.0</td>\n",
       "      <td>11.7</td>\n",
       "      <td>None</td>\n",
       "      <td>None</td>\n",
       "      <td>None</td>\n",
       "      <td>C</td>\n",
       "      <td>b</td>\n",
       "      <td>NaN</td>\n",
       "    </tr>\n",
       "    <tr>\n",
       "      <th>1</th>\n",
       "      <td>5e770773133baf3112ece589</td>\n",
       "      <td>beertest</td>\n",
       "      <td>22/03/2020, 17:35:44</td>\n",
       "      <td>22.8</td>\n",
       "      <td>24.1</td>\n",
       "      <td>21.0</td>\n",
       "      <td>11.7</td>\n",
       "      <td>None</td>\n",
       "      <td>None</td>\n",
       "      <td>None</td>\n",
       "      <td>C</td>\n",
       "      <td>b</td>\n",
       "      <td>NaN</td>\n",
       "    </tr>\n",
       "    <tr>\n",
       "      <th>2</th>\n",
       "      <td>5e7707af133baf3112ece58a</td>\n",
       "      <td>beertest</td>\n",
       "      <td>22/03/2020, 17:36:44</td>\n",
       "      <td>22.8</td>\n",
       "      <td>24.1</td>\n",
       "      <td>21.0</td>\n",
       "      <td>11.7</td>\n",
       "      <td>None</td>\n",
       "      <td>None</td>\n",
       "      <td>None</td>\n",
       "      <td>C</td>\n",
       "      <td>b</td>\n",
       "      <td>NaN</td>\n",
       "    </tr>\n",
       "    <tr>\n",
       "      <th>3</th>\n",
       "      <td>5e7707eb133baf3112ece58b</td>\n",
       "      <td>beertest</td>\n",
       "      <td>22/03/2020, 17:37:44</td>\n",
       "      <td>22.8</td>\n",
       "      <td>24.1</td>\n",
       "      <td>21.0</td>\n",
       "      <td>11.7</td>\n",
       "      <td>None</td>\n",
       "      <td>None</td>\n",
       "      <td>None</td>\n",
       "      <td>C</td>\n",
       "      <td>b</td>\n",
       "      <td>NaN</td>\n",
       "    </tr>\n",
       "    <tr>\n",
       "      <th>4</th>\n",
       "      <td>5e770827133baf3112ece58c</td>\n",
       "      <td>beertest</td>\n",
       "      <td>22/03/2020, 17:38:44</td>\n",
       "      <td>22.8</td>\n",
       "      <td>24.1</td>\n",
       "      <td>21.0</td>\n",
       "      <td>11.7</td>\n",
       "      <td>None</td>\n",
       "      <td>None</td>\n",
       "      <td>None</td>\n",
       "      <td>C</td>\n",
       "      <td>b</td>\n",
       "      <td>NaN</td>\n",
       "    </tr>\n",
       "  </tbody>\n",
       "</table>\n",
       "</div>"
      ],
      "text/plain": [
       "                        _id  beername               created beertemp  \\\n",
       "0  5e770737133baf3112ece588  beertest  22/03/2020, 17:34:44     22.9   \n",
       "1  5e770773133baf3112ece589  beertest  22/03/2020, 17:35:44     22.8   \n",
       "2  5e7707af133baf3112ece58a  beertest  22/03/2020, 17:36:44     22.8   \n",
       "3  5e7707eb133baf3112ece58b  beertest  22/03/2020, 17:37:44     22.8   \n",
       "4  5e770827133baf3112ece58c  beertest  22/03/2020, 17:38:44     22.8   \n",
       "\n",
       "  fridgetemp beerset fridgeset temproom tempaux externalvolt tempmode  \\\n",
       "0       24.1    21.0      11.7     None    None         None        C   \n",
       "1       24.1    21.0      11.7     None    None         None        C   \n",
       "2       24.1    21.0      11.7     None    None         None        C   \n",
       "3       24.1    21.0      11.7     None    None         None        C   \n",
       "4       24.1    21.0      11.7     None    None         None        C   \n",
       "\n",
       "  modeinint finished  \n",
       "0         b      NaN  \n",
       "1         b      NaN  \n",
       "2         b      NaN  \n",
       "3         b      NaN  \n",
       "4         b      NaN  "
      ]
     },
     "execution_count": 2,
     "metadata": {},
     "output_type": "execute_result"
    }
   ],
   "source": [
    "dfbrew.head()"
   ]
  },
  {
   "cell_type": "code",
   "execution_count": null,
   "metadata": {},
   "outputs": [],
   "source": []
  },
  {
   "cell_type": "code",
   "execution_count": 27,
   "metadata": {},
   "outputs": [
    {
     "data": {
      "text/plain": [
       "<bound method NDFrame.head of                           _id  beername             created  beertemp  \\\n",
       "0    5e770737133baf3112ece588  beertest 2020-03-22 17:34:44      22.9   \n",
       "1    5e770773133baf3112ece589  beertest 2020-03-22 17:35:44      22.8   \n",
       "2    5e7707af133baf3112ece58a  beertest 2020-03-22 17:36:44      22.8   \n",
       "3    5e7707eb133baf3112ece58b  beertest 2020-03-22 17:37:44      22.8   \n",
       "4    5e770827133baf3112ece58c  beertest 2020-03-22 17:38:44      22.8   \n",
       "..                        ...       ...                 ...       ...   \n",
       "307  5e7892dd133baf3112ece6bb  beertest 2020-03-23 21:42:46      21.0   \n",
       "308  5e789319133baf3112ece6bc  beertest 2020-03-23 21:43:43      20.9   \n",
       "309  5e789355133baf3112ece6bd  beertest 2020-03-23 21:44:43      20.9   \n",
       "310  5e789392133baf3112ece6be  beertest 2020-03-23 21:45:53      20.9   \n",
       "311  5e7893ce133baf3112ece6bf  beertest 2020-03-23 21:46:43      20.9   \n",
       "\n",
       "    fridgetemp beerset fridgeset temproom tempaux externalvolt tempmode  \\\n",
       "0         24.1    21.0      11.7     None    None         None        C   \n",
       "1         24.1    21.0      11.7     None    None         None        C   \n",
       "2         24.1    21.0      11.7     None    None         None        C   \n",
       "3         24.1    21.0      11.7     None    None         None        C   \n",
       "4         24.1    21.0      11.7     None    None         None        C   \n",
       "..         ...     ...       ...      ...     ...          ...      ...   \n",
       "307       22.2    21.0      22.8     None    None         None        C   \n",
       "308       22.2    21.0      22.8     None    None         None        C   \n",
       "309       22.2    21.0      22.8     None    None         None        C   \n",
       "310       22.2    21.0      22.9     None    None         None        C   \n",
       "311       22.2    21.0      22.9     None    None         None        C   \n",
       "\n",
       "    modeinint finished  \n",
       "0           b      NaN  \n",
       "1           b      NaN  \n",
       "2           b      NaN  \n",
       "3           b      NaN  \n",
       "4           b      NaN  \n",
       "..        ...      ...  \n",
       "307         b           \n",
       "308         b           \n",
       "309         b           \n",
       "310         b           \n",
       "311         b           \n",
       "\n",
       "[312 rows x 13 columns]>"
      ]
     },
     "execution_count": 27,
     "metadata": {},
     "output_type": "execute_result"
    }
   ],
   "source": [
    "\n",
    "dfbrew['created'] = pd.to_datetime(dfbrew['created'])\n",
    "dfbrew['beertemp'] = dfbrew['beertemp'].astype('float') \n",
    "final_df = dfbrew.sort_values('created', ascending=True) "
   ]
  },
  {
   "cell_type": "code",
   "execution_count": 28,
   "metadata": {},
   "outputs": [
    {
     "data": {
      "image/png": "[encoded data removed]",
      "text/plain": [
       "<Figure size 432x288 with 1 Axes>"
      ]
     },
     "metadata": {
      "needs_background": "light"
     },
     "output_type": "display_data"
    }
   ],
   "source": [
    "import matplotlib\n",
    "dfbrew.index\n",
    "dfbrew.set_index('created')['beertemp'].plot();"
   ]
  },
  {
   "cell_type": "code",
   "execution_count": null,
   "metadata": {},
   "outputs": [],
   "source": []
  },
  {
   "cell_type": "code",
   "execution_count": null,
   "metadata": {},
   "outputs": [],
   "source": []
  }
 ],
 "metadata": {
  "kernelspec": {
   "display_name": "Python 3",
   "language": "python",
   "name": "python3"
  },
  "language_info": {
   "codemirror_mode": {
    "name": "ipython",
    "version": 3
   },
   "file_extension": ".py",
   "mimetype": "text/x-python",
   "name": "python",
   "nbconvert_exporter": "python",
   "pygments_lexer": "ipython3",
   "version": "3.7.4"
  }
 },
 "nbformat": 4,
 "nbformat_minor": 4
}
