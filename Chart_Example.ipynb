{
 "cells": [
  {
   "cell_type": "code",
   "execution_count": null,
   "metadata": {},
   "outputs": [],
   "source": [
    "import pymongo\n",
    "\n",
    "import time\n",
    "import datetime\n",
    "\n",
    "\n",
    "\n",
    "conn = pymongo.MongoClient('mongodb://192.168.20.15', 27017)\n",
    "db = conn.brewpiless\n",
    "collection = db.beer\n",
    "cursor = collection.find_one({\"finished\": \"\"}, {'beername': 1, 'beerstyle':1, 'description':1, 'created':1}) \n",
    "print(cursor)\n",
    "if cursor:  \n",
    "    print('iffff') \n",
    "    name = cursor['beername']\n",
    "    style = cursor['beerstyle']\n",
    "    desc = cursor['description']\n",
    "    created = cursor['created'] \n",
    "    createdformat = created.strftime(\"%d/%m/%Y %H:%M:%S\")\n",
    "    today = datetime.datetime.now() \n",
    "    \n",
    "    elapsedTime = str(today-created)\n",
    "    brewing = elapsedTime.replace(':','h')\n",
    "    days = brewing[0:13]+'m'\n",
    "\n",
    "    \n",
    "    \n",
    "    \n",
    "\n"
   ]
  },
  {
   "cell_type": "code",
   "execution_count": null,
   "metadata": {},
   "outputs": [],
   "source": [
    "import pymongo\n",
    "import datetime  \n",
    "import time\n",
    "conn = pymongo.MongoClient('mongodb://127.0.0.1', 27017)\n",
    "db = conn.brewpiless\n",
    "collection = db.beer\n",
    "res2 = collection.find({\"finished\": \"\"}).distinct(\"beername\")\n",
    "res = list(res2) \n",
    "tudo = collection.find_one({\"beername\": res[0]})\n",
    "tudodict = dict(tudo)\n",
    "created = tudodict['created']\n",
    "createdformat = created.strftime(\"%d/%m/%Y %H:%M:%S\")\n",
    "\n",
    "today = datetime.datetime.now() \n",
    "elapsedTime = str(today-created)\n",
    "brewing = elapsedTime.replace(':','h')\n",
    "days = brewing[0:13]+'m'\n",
    "\n",
    "print()"
   ]
  },
  {
   "cell_type": "code",
   "execution_count": null,
   "metadata": {},
   "outputs": [],
   "source": [
    "import pymongo\n",
    "import numpy as np\n",
    "import pandas as pd\n",
    "conn = pymongo.MongoClient('mongodb://127.0.0.1', 27017)\n",
    "db = conn.brewpiless\n",
    "collection = db.brewpiless    \n",
    "    \n",
    "#convert entire collection to Pandas dataframe\n",
    "df = pd.DataFrame(list(collection.find({}, {'_id':0,'beername': 1, 'created':1, 'beertemp':1, 'fridgetemp':1, 'beerset':1, 'fridgeset':1})))"
   ]
  },
  {
   "cell_type": "code",
   "execution_count": null,
   "metadata": {},
   "outputs": [],
   "source": [
    "dfbrew.head()"
   ]
  },
  {
   "cell_type": "code",
   "execution_count": null,
   "metadata": {},
   "outputs": [],
   "source": [
    "print(plt.style.available)"
   ]
  },
  {
   "cell_type": "code",
   "execution_count": 4,
   "metadata": {},
   "outputs": [],
   "source": [
    "import pymongo\n",
    "import numpy as np\n",
    "import pandas as pd\n",
    "conn = pymongo.MongoClient('mongodb://127.0.0.1', 27017)\n",
    "db = conn.brewpiless\n",
    "collection = db.brewpiless    \n",
    "    \n",
    "#convert entire collection to Pandas dataframe\n",
    "df = pd.DataFrame(list(collection.find({}, {'_id':0,'beername': 1, 'created':1, 'beertemp':1, 'fridgetemp':1, 'beerset':1, 'fridgeset':1})))\n",
    "df['created'] = pd.to_datetime(df['created'])\n",
    "df['beertemp'] = df['beertemp'].astype('float') \n",
    "df['fridgetemp'] = df['fridgetemp'].astype('float') \n",
    "df['beerset'] = df['beerset'].astype('float') \n",
    "df['fridgeset'] = df['fridgeset'].astype('float') \n",
    "df = df.sort_values('created', ascending=True) "
   ]
  },
  {
   "cell_type": "code",
   "execution_count": null,
   "metadata": {},
   "outputs": [],
   "source": [
    "\n",
    "import matplotlib.pyplot as plt\n",
    "#final_df.index\n",
    "#final_df.set_index('created')['beertemp'].plot();\n",
    "\n",
    "x = final_df['created']\n",
    "y = final_df['beertemp']\n",
    "plt.plot(x,y, label='beertemp')\n",
    "\n",
    "x2 = final_df['created']\n",
    "y2 = final_df['fridgetemp']\n",
    "plt.plot(x2,y2, label='fridgetemp')\n",
    " \n",
    " \n",
    "  \n",
    "\n",
    "x3 = final_df['created']\n",
    "y3 = final_df['beerset']\n",
    "plt.plot(x3,y3, label='Beer Set')\n",
    " \n",
    "x4 = final_df['created']\n",
    "y4 = final_df['fridgeset']\n",
    "plt.plot(x4,y4, label='fridgeset')\n",
    "\n",
    "plt.title(\"My Last Beer\", fontsize=14, fontweight=0, color='blue')\n",
    "# Add legend\n",
    "plt.legend(loc=2, ncol=2)\n",
    "plt.style.use('seaborn-colorblind')\n",
    " \n",
    "plt.show()\n",
    "\n",
    "\n",
    " \n",
    "\n"
   ]
  },
  {
   "cell_type": "code",
   "execution_count": null,
   "metadata": {},
   "outputs": [],
   "source": [
    "for index, row in df.iterrows():\n",
    "    label = row['created']\n",
    "    x1 =  row['beertemp']\n",
    "    x2 = row['fridgetemp']\n",
    "    x3 = row['beerset']\n",
    "    x4 = row['fridgeset']   \n",
    "    print(label,x1,x2,x3,x4)"
   ]
  },
  {
   "cell_type": "code",
   "execution_count": 18,
   "metadata": {},
   "outputs": [
    {
     "name": "stdout",
     "output_type": "stream",
     "text": [
      "<class 'pandas.core.frame.DataFrame'>\n",
      "Int64Index: 344 entries, 0 to 343\n",
      "Data columns (total 6 columns):\n",
      " #   Column      Non-Null Count  Dtype         \n",
      "---  ------      --------------  -----         \n",
      " 0   beername    344 non-null    object        \n",
      " 1   created     344 non-null    datetime64[ns]\n",
      " 2   beertemp    344 non-null    float64       \n",
      " 3   fridgetemp  344 non-null    float64       \n",
      " 4   beerset     344 non-null    float64       \n",
      " 5   fridgeset   344 non-null    float64       \n",
      "dtypes: datetime64[ns](1), float64(4), object(1)\n",
      "memory usage: 18.8+ KB\n"
     ]
    }
   ],
   "source": [
    "df = pd.DataFrame(list(collection.find({'beername':'beertest'}, {'_id':0,'beername': 1, 'created':1, 'beertemp':1, 'fridgetemp':1, 'beerset':1, 'fridgeset':1})))\n",
    "df['created'] = pd.to_datetime(df['created'])\n",
    "df['beertemp'] = df['beertemp'].astype('float') \n",
    "df['fridgetemp'] = df['fridgetemp'].astype('float') \n",
    "df['beerset'] = df['beerset'].astype('float') \n",
    "df['fridgeset'] = df['fridgeset'].astype('float') \n",
    "df = df.sort_values('created', ascending=True) \n",
    "df.info()"
   ]
  },
  {
   "cell_type": "code",
   "execution_count": 20,
   "metadata": {},
   "outputs": [
    {
     "data": {
      "text/plain": [
       "beername      344\n",
       "created       344\n",
       "beertemp      344\n",
       "fridgetemp    344\n",
       "beerset       344\n",
       "fridgeset     344\n",
       "dtype: int64"
      ]
     },
     "execution_count": 20,
     "metadata": {},
     "output_type": "execute_result"
    },
    {
     "data": {
      "image/png": "[encoded data removed]",
      "text/plain": [
       "<Figure size 1152x648 with 1 Axes>"
      ]
     },
     "metadata": {},
     "output_type": "display_data"
    }
   ],
   "source": [
    "import pymongo\n",
    "import numpy as np\n",
    "import pandas as pd\n",
    "import matplotlib.pyplot as plt\n",
    "    \n",
    "def createchart(beername):\n",
    "    beer = beername\n",
    "    conn = pymongo.MongoClient('mongodb://127.0.0.1', 27017)\n",
    "    db = conn.brewpiless\n",
    "    collection = db.brewpiless    \n",
    "    \n",
    "    df = pd.DataFrame(list(collection.find({'beername':beer}, {'_id':0,'beername': 1, 'created':1, 'beertemp':1, 'fridgetemp':1, 'beerset':1, 'fridgeset':1})))\n",
    "    df['created'] = pd.to_datetime(df['created'])\n",
    "    df['beertemp'] = df['beertemp'].astype('float') \n",
    "    df['fridgetemp'] = df['fridgetemp'].astype('float') \n",
    "    df['beerset'] = df['beerset'].astype('float') \n",
    "    df['fridgeset'] = df['fridgeset'].astype('float') \n",
    "    df = df.sort_values('created', ascending=True) \n",
    "    tam = df.count()\n",
    " \n",
    "    label = df['created']\n",
    "    y1 =  df['beertemp']\n",
    "    y2 = df['fridgetemp']\n",
    "    y3 = df['beerset']\n",
    "    y4 = df['fridgeset']   \n",
    "    \n",
    "    plt.style.use('seaborn-whitegrid')    \n",
    "    fig, ax = plt.subplots()\n",
    "    plt.rcParams[\"figure.figsize\"] = [16,9]\n",
    "    plt.plot(label,y1, label='Beer Temp', linewidth=2)\n",
    "    plt.plot(label,y2, label='Fridge Temp', linewidth=2)\n",
    "    plt.plot(label,y3, label='Beer Set', linewidth=2)\n",
    "    plt.plot(label,y4, label='Fridge Set', linewidth=2)\n",
    "    \n",
    "    plt.title(beer, fontsize=14, fontweight=0, color='blue')\n",
    "    # Add legend\n",
    "    plt.legend(loc=4, ncol=1,fontsize='small')\n",
    "\n",
    "\n",
    "    # set custom tick labels\n",
    "    ax.set_xticklabels(label, rotation=45, horizontalalignment='right')\n",
    "    \n",
    "    return plt.show()\n",
    " \n",
    "    \n",
    "    \n",
    "createchart('beertest') "
   ]
  },
  {
   "cell_type": "code",
   "execution_count": 12,
   "metadata": {},
   "outputs": [
    {
     "name": "stdout",
     "output_type": "stream",
     "text": [
      "<class 'pandas.core.frame.DataFrame'>\n",
      "RangeIndex: 199 entries, 0 to 198\n",
      "Data columns (total 2 columns):\n",
      " #   Column    Non-Null Count  Dtype         \n",
      "---  ------    --------------  -----         \n",
      " 0   beertemp  199 non-null    float64       \n",
      " 1   date      199 non-null    datetime64[ns]\n",
      "dtypes: datetime64[ns](1), float64(1)\n",
      "memory usage: 3.2 KB\n"
     ]
    }
   ],
   "source": [
    "import pandas as pd\n",
    "\n",
    "df = pd.read_excel (r'C:\\Users\\bceolincamar\\Documents\\GitHub\\rubish.xlsx')\n",
    "\n",
    "df.info()"
   ]
  },
  {
   "cell_type": "code",
   "execution_count": null,
   "metadata": {},
   "outputs": [],
   "source": [
    "import matplotlib\n",
    "df.index\n",
    "df.set_index('date')['beertemp'].plot();"
   ]
  },
  {
   "cell_type": "code",
   "execution_count": null,
   "metadata": {},
   "outputs": [],
   "source": [
    "\n",
    "\n",
    "def gendata():\n",
    "    conn = pymongo.MongoClient('mongodb://127.0.0.1', 27017)\n",
    "    db = conn.brewpiless\n",
    "    collection = db.brewpiless\n",
    "\n",
    "    rdata = list(collection.find())\n",
    "    if rdata: \n",
    "        # create an empty results object\n",
    "        data_list = []\n",
    "        # now loop through all of the documents in the cursor\n",
    "        for doc in rdata: \n",
    "            value_list = [ doc['\\ufeffbeertemp'], doc['date']]\n",
    "            data_list.append(value_list)\n",
    "        data = json.dumps(data_list)\n",
    "        print(data)\n",
    "    else:\n",
    "        print(\"Cursor is empty\")\n",
    "        # return an empty result\n",
    "        return \"[]\"\n"
   ]
  },
  {
   "cell_type": "code",
   "execution_count": null,
   "metadata": {},
   "outputs": [],
   "source": [
    "getdata()"
   ]
  },
  {
   "cell_type": "code",
   "execution_count": null,
   "metadata": {},
   "outputs": [],
   "source": [
    "import pymongo\n",
    "\n",
    "conn = pymongo.MongoClient('mongodb://192.168.20.15', 27017)\n",
    "db = conn.brewpiless\n",
    "collection = db.yeast    \n",
    "    \n",
    "\n",
    "yeastname = '' \n",
    "yeasttype = 'ale'\n",
    "ret = ''     \n",
    "\n",
    "if yeastname == '' and yeasttype == '':\n",
    "   #busca tudo  \n",
    "   ret = list(collection.find({}, {'name': 1, 'description':1, 'yeastType':1, 'attenuationMin':1, 'attenuationMax':1, 'fermentTempMin':1, 'fermentTempMax':1, 'alcoholToleranceMin':1, 'alcoholToleranceMax':1, 'supplier':1, 'yeastFormat':1}))                     \n",
    "   print(ret)           \n",
    "   print('if')\n",
    "elif yeastname != '':\n",
    "   #busca NAME        \n",
    "   print('elif')           \n",
    "   ret = list(collection.find_one({\"yeastName\": yeastname}, {'name': 1, 'description':1, 'yeastType':1, 'attenuationMin':1, 'attenuationMax':1, 'fermentTempMin':1, 'fermentTempMax':1, 'alcoholToleranceMin':1, 'alcoholToleranceMax':1, 'supplier':1, 'yeastFormat':1})) \n",
    "   print(type(ret))\n",
    "   print(ret)\n",
    "else:\n",
    "#busca Style\n",
    "   print('else')        \n",
    "   ret = list(collection.find({\"yeasttype\": yeasttype}, {'name': 1, 'description':1, 'yeastType':1, 'attenuationMin':1, 'attenuationMax':1, 'fermentTempMin':1, 'fermentTempMax':1, 'alcoholToleranceMin':1, 'alcoholToleranceMax':1, 'supplier':1, 'yeastFormat':1}))\n",
    "   print(ret)                       "
   ]
  },
  {
   "cell_type": "code",
   "execution_count": null,
   "metadata": {},
   "outputs": [],
   "source": [
    "\n",
    "conn = pymongo.MongoClient('mongodb://192.168.20.15', 27017)\n",
    "db = conn.brewpiless\n",
    "collection = db.yeast    \n",
    "yeastname = 'British Ale' \n",
    "yeasttype = 'lager' \n",
    "#ret = list(collection.find({\"yeastType\": yeasttype}))\n",
    "#print(ret)\n",
    "print('/n/n/n/n/n/n/n')\n",
    "ret = list(collection.find({\"name\": yeastname}))\n",
    "print(ret)"
   ]
  },
  {
   "cell_type": "code",
   "execution_count": null,
   "metadata": {},
   "outputs": [],
   "source": [
    "\n",
    "conn = pymongo.MongoClient('mongodb://192.168.20.15', 27017)\n",
    "db = conn.brewpiless\n",
    "collection = db.beer    \n",
    "urlid='5e81b55836991f9641d3bada' \n",
    "\n",
    "if urlid:\n",
    "    d = collection.find(ObjectId(\"5e81b55836991f9641d3bada\"))\n",
    "    print(d)\n",
    "else:\n",
    "    print(\"nao achou\")\n",
    "\n",
    "\n"
   ]
  },
  {
   "cell_type": "code",
   "execution_count": null,
   "metadata": {},
   "outputs": [],
   "source": []
  }
 ],
 "metadata": {
  "kernelspec": {
   "display_name": "Python 3",
   "language": "python",
   "name": "python3"
  },
  "language_info": {
   "codemirror_mode": {
    "name": "ipython",
    "version": 3
   },
   "file_extension": ".py",
   "mimetype": "text/x-python",
   "name": "python",
   "nbconvert_exporter": "python",
   "pygments_lexer": "ipython3",
   "version": "3.7.6"
  }
 },
 "nbformat": 4,
 "nbformat_minor": 4
}
