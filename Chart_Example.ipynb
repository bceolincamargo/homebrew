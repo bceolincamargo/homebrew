{
 "cells": [
  {
   "cell_type": "code",
   "execution_count": 6,
   "metadata": {},
   "outputs": [
    {
     "name": "stdout",
     "output_type": "stream",
     "text": [
      "{'_id': ObjectId('5e81b55836991f9641d3bada'), 'beername': 'beertest', 'beerstyle': 'ipa', 'description': 'any desc', 'created': datetime.datetime(2020, 3, 30, 9, 1, 12, 845000)}\n",
      "iffff\n",
      "beertest\n"
     ]
    }
   ],
   "source": [
    "import pymongo\n",
    "\n",
    "import time\n",
    "import datetime\n",
    "\n",
    "\n",
    "\n",
    "conn = pymongo.MongoClient('mongodb://192.168.20.15', 27017)\n",
    "db = conn.brewpiless\n",
    "collection = db.beer\n",
    "cursor = collection.find_one({\"finished\": \"\"}, {'beername': 1, 'beerstyle':1, 'description':1, 'created':1}) \n",
    "print(cursor)\n",
    "if cursor:  \n",
    "    print('iffff') \n",
    "    name = cursor['beername']\n",
    "    style = cursor['beerstyle']\n",
    "    desc = cursor['description']\n",
    "    created = cursor['created'] \n",
    "    createdformat = created.strftime(\"%d/%m/%Y %H:%M:%S\")\n",
    "    today = datetime.datetime.now() \n",
    "    \n",
    "    elapsedTime = str(today-created)\n",
    "    brewing = elapsedTime.replace(':','h')\n",
    "    days = brewing[0:13]+'m'\n",
    "\n",
    "    \n",
    "    \n",
    "    \n",
    "\n"
   ]
  },
  {
   "cell_type": "code",
   "execution_count": 46,
   "metadata": {},
   "outputs": [
    {
     "name": "stdout",
     "output_type": "stream",
     "text": [
      "19/03/2020 00:30:30\n"
     ]
    }
   ],
   "source": [
    "import pymongo\n",
    "import datetime  \n",
    "import time\n",
    "conn = pymongo.MongoClient('mongodb://127.0.0.1', 27017)\n",
    "db = conn.brewpiless\n",
    "collection = db.beer\n",
    "res2 = collection.find({\"finished\": \"\"}).distinct(\"beername\")\n",
    "res = list(res2) \n",
    "tudo = collection.find_one({\"beername\": res[0]})\n",
    "tudodict = dict(tudo)\n",
    "created = tudodict['created']\n",
    "createdformat = created.strftime(\"%d/%m/%Y %H:%M:%S\")\n",
    "\n",
    "today = datetime.datetime.now() \n",
    "elapsedTime = str(today-created)\n",
    "brewing = elapsedTime.replace(':','h')\n",
    "days = brewing[0:13]+'m'\n",
    "\n",
    "print()"
   ]
  },
  {
   "cell_type": "code",
   "execution_count": 1,
   "metadata": {},
   "outputs": [],
   "source": [
    "import pymongo\n",
    "import numpy as np\n",
    "import pandas as pd\n",
    "conn = pymongo.MongoClient('mongodb://127.0.0.1', 27017)\n",
    "db = conn.brewpiless\n",
    "collection = db.brewpiless    \n",
    "    \n",
    "#convert entire collection to Pandas dataframe\n",
    "dfbrew = pd.DataFrame(list(collection.find()))"
   ]
  },
  {
   "cell_type": "code",
   "execution_count": 2,
   "metadata": {},
   "outputs": [
    {
     "data": {
      "text/html": [
       "<div>\n",
       "<style scoped>\n",
       "    .dataframe tbody tr th:only-of-type {\n",
       "        vertical-align: middle;\n",
       "    }\n",
       "\n",
       "    .dataframe tbody tr th {\n",
       "        vertical-align: top;\n",
       "    }\n",
       "\n",
       "    .dataframe thead th {\n",
       "        text-align: right;\n",
       "    }\n",
       "</style>\n",
       "<table border=\"1\" class=\"dataframe\">\n",
       "  <thead>\n",
       "    <tr style=\"text-align: right;\">\n",
       "      <th></th>\n",
       "      <th>_id</th>\n",
       "      <th>beername</th>\n",
       "      <th>created</th>\n",
       "      <th>beertemp</th>\n",
       "      <th>fridgetemp</th>\n",
       "      <th>beerset</th>\n",
       "      <th>fridgeset</th>\n",
       "      <th>temproom</th>\n",
       "      <th>tempaux</th>\n",
       "      <th>externalvolt</th>\n",
       "      <th>tempmode</th>\n",
       "      <th>modeinint</th>\n",
       "      <th>finished</th>\n",
       "    </tr>\n",
       "  </thead>\n",
       "  <tbody>\n",
       "    <tr>\n",
       "      <th>0</th>\n",
       "      <td>5e770737133baf3112ece588</td>\n",
       "      <td>beertest</td>\n",
       "      <td>22/03/2020 17:34:44</td>\n",
       "      <td>22.9</td>\n",
       "      <td>24.1</td>\n",
       "      <td>21.0</td>\n",
       "      <td>11.7</td>\n",
       "      <td>None</td>\n",
       "      <td>None</td>\n",
       "      <td>None</td>\n",
       "      <td>C</td>\n",
       "      <td>b</td>\n",
       "      <td>NaN</td>\n",
       "    </tr>\n",
       "    <tr>\n",
       "      <th>1</th>\n",
       "      <td>5e770773133baf3112ece589</td>\n",
       "      <td>beertest</td>\n",
       "      <td>22/03/2020 17:35:44</td>\n",
       "      <td>22.8</td>\n",
       "      <td>24.1</td>\n",
       "      <td>21.0</td>\n",
       "      <td>11.7</td>\n",
       "      <td>None</td>\n",
       "      <td>None</td>\n",
       "      <td>None</td>\n",
       "      <td>C</td>\n",
       "      <td>b</td>\n",
       "      <td>NaN</td>\n",
       "    </tr>\n",
       "    <tr>\n",
       "      <th>2</th>\n",
       "      <td>5e7707af133baf3112ece58a</td>\n",
       "      <td>beertest</td>\n",
       "      <td>22/03/2020 17:36:44</td>\n",
       "      <td>22.8</td>\n",
       "      <td>24.1</td>\n",
       "      <td>21.0</td>\n",
       "      <td>11.7</td>\n",
       "      <td>None</td>\n",
       "      <td>None</td>\n",
       "      <td>None</td>\n",
       "      <td>C</td>\n",
       "      <td>b</td>\n",
       "      <td>NaN</td>\n",
       "    </tr>\n",
       "    <tr>\n",
       "      <th>3</th>\n",
       "      <td>5e7707eb133baf3112ece58b</td>\n",
       "      <td>beertest</td>\n",
       "      <td>22/03/2020 17:37:44</td>\n",
       "      <td>22.8</td>\n",
       "      <td>24.1</td>\n",
       "      <td>21.0</td>\n",
       "      <td>11.7</td>\n",
       "      <td>None</td>\n",
       "      <td>None</td>\n",
       "      <td>None</td>\n",
       "      <td>C</td>\n",
       "      <td>b</td>\n",
       "      <td>NaN</td>\n",
       "    </tr>\n",
       "    <tr>\n",
       "      <th>4</th>\n",
       "      <td>5e770827133baf3112ece58c</td>\n",
       "      <td>beertest</td>\n",
       "      <td>22/03/2020 17:38:44</td>\n",
       "      <td>22.8</td>\n",
       "      <td>24.1</td>\n",
       "      <td>21.0</td>\n",
       "      <td>11.7</td>\n",
       "      <td>None</td>\n",
       "      <td>None</td>\n",
       "      <td>None</td>\n",
       "      <td>C</td>\n",
       "      <td>b</td>\n",
       "      <td>NaN</td>\n",
       "    </tr>\n",
       "  </tbody>\n",
       "</table>\n",
       "</div>"
      ],
      "text/plain": [
       "                        _id  beername              created beertemp  \\\n",
       "0  5e770737133baf3112ece588  beertest  22/03/2020 17:34:44     22.9   \n",
       "1  5e770773133baf3112ece589  beertest  22/03/2020 17:35:44     22.8   \n",
       "2  5e7707af133baf3112ece58a  beertest  22/03/2020 17:36:44     22.8   \n",
       "3  5e7707eb133baf3112ece58b  beertest  22/03/2020 17:37:44     22.8   \n",
       "4  5e770827133baf3112ece58c  beertest  22/03/2020 17:38:44     22.8   \n",
       "\n",
       "  fridgetemp beerset fridgeset temproom tempaux externalvolt tempmode  \\\n",
       "0       24.1    21.0      11.7     None    None         None        C   \n",
       "1       24.1    21.0      11.7     None    None         None        C   \n",
       "2       24.1    21.0      11.7     None    None         None        C   \n",
       "3       24.1    21.0      11.7     None    None         None        C   \n",
       "4       24.1    21.0      11.7     None    None         None        C   \n",
       "\n",
       "  modeinint finished  \n",
       "0         b      NaN  \n",
       "1         b      NaN  \n",
       "2         b      NaN  \n",
       "3         b      NaN  \n",
       "4         b      NaN  "
      ]
     },
     "execution_count": 2,
     "metadata": {},
     "output_type": "execute_result"
    }
   ],
   "source": [
    "dfbrew.head()"
   ]
  },
  {
   "cell_type": "code",
   "execution_count": null,
   "metadata": {},
   "outputs": [],
   "source": []
  },
  {
   "cell_type": "code",
   "execution_count": 3,
   "metadata": {},
   "outputs": [],
   "source": [
    "\n",
    "dfbrew['created'] = pd.to_datetime(dfbrew['created'])\n",
    "dfbrew['beertemp'] = dfbrew['beertemp'].astype('float') \n",
    "dfbrew['fridgetemp'] = dfbrew['fridgetemp'].astype('float') \n",
    "dfbrew['beerset'] = dfbrew['beerset'].astype('float') \n",
    "dfbrew['fridgeset'] = dfbrew['fridgeset'].astype('float') \n",
    "final_df = dfbrew.sort_values('created', ascending=True) "
   ]
  },
  {
   "cell_type": "code",
   "execution_count": 20,
   "metadata": {},
   "outputs": [
    {
     "data": {
      "image/png": "[encoded data removed]",
      "text/plain": [
       "<Figure size 432x288 with 1 Axes>"
      ]
     },
     "metadata": {
      "needs_background": "light"
     },
     "output_type": "display_data"
    }
   ],
   "source": [
    "\n",
    "import matplotlib.pyplot as plt\n",
    "#final_df.index\n",
    "#final_df.set_index('created')['beertemp'].plot();\n",
    "\n",
    "x = final_df['created']\n",
    "y = final_df['beertemp']\n",
    "plt.plot(x,y, label='line 1')\n",
    "\n",
    "x2 = final_df['created']\n",
    "y2 = final_df['fridgetemp']\n",
    "plt.plot(x2,y2, label='line 2')\n",
    "\n",
    "plt.xlabel('DateTime')\n",
    "\n",
    "plt.ylabel('Temperature')\n",
    "\n",
    "\n",
    "\n",
    "x3 = final_df['created']\n",
    "y3 = final_df['beerset']\n",
    "plt.plot(x3,y3, label='line 3')\n",
    " \n",
    "x4 = final_df['created']\n",
    "y4 = final_df['fridgeset']\n",
    "plt.plot(x4,y4, label='line 4')\n",
    "\n",
    "plt.title(\"My Last Beer\", fontsize=12, fontweight=0, color='blue')\n",
    "# Add legend\n",
    "plt.legend(loc=2, ncol=2)\n",
    "\n",
    "\n",
    "plt.show()\n",
    "\n",
    "\n",
    "\n"
   ]
  },
  {
   "cell_type": "code",
   "execution_count": 9,
   "metadata": {},
   "outputs": [
    {
     "name": "stdout",
     "output_type": "stream",
     "text": [
      "<class 'pandas.core.frame.DataFrame'>\n",
      "RangeIndex: 199 entries, 0 to 198\n",
      "Data columns (total 2 columns):\n",
      " #   Column    Non-Null Count  Dtype         \n",
      "---  ------    --------------  -----         \n",
      " 0   beertemp  199 non-null    float64       \n",
      " 1   date      199 non-null    datetime64[ns]\n",
      "dtypes: datetime64[ns](1), float64(1)\n",
      "memory usage: 3.2 KB\n"
     ]
    }
   ],
   "source": [
    "import pandas as pd\n",
    "\n",
    "df = pd.read_excel (r'C:\\Users\\bceolincamar\\Documents\\GitHub\\rubish.xlsx')\n",
    "\n",
    "df.info()"
   ]
  },
  {
   "cell_type": "code",
   "execution_count": 54,
   "metadata": {},
   "outputs": [
    {
     "data": {
      "image/png": "[encoded data removed]",
      "text/plain": [
       "<Figure size 432x288 with 1 Axes>"
      ]
     },
     "metadata": {
      "needs_background": "light"
     },
     "output_type": "display_data"
    }
   ],
   "source": [
    "import matplotlib\n",
    "df.index\n",
    "df.set_index('date')['beertemp'].plot();"
   ]
  },
  {
   "cell_type": "code",
   "execution_count": 81,
   "metadata": {},
   "outputs": [],
   "source": [
    "\n",
    "\n",
    "def gendata():\n",
    "    conn = pymongo.MongoClient('mongodb://127.0.0.1', 27017)\n",
    "    db = conn.brewpiless\n",
    "    collection = db.brewpiless\n",
    "\n",
    "    rdata = list(collection.find())\n",
    "    if rdata: \n",
    "        # create an empty results object\n",
    "        data_list = []\n",
    "        # now loop through all of the documents in the cursor\n",
    "        for doc in rdata: \n",
    "            value_list = [ doc['\\ufeffbeertemp'], doc['date']]\n",
    "            data_list.append(value_list)\n",
    "        data = json.dumps(data_list)\n",
    "        print(data)\n",
    "    else:\n",
    "        print(\"Cursor is empty\")\n",
    "        # return an empty result\n",
    "        return \"[]\"\n"
   ]
  },
  {
   "cell_type": "code",
   "execution_count": 82,
   "metadata": {},
   "outputs": [
    {
     "data": {
      "text/plain": [
       "'[[\"20.1\", \"20/03/2020 10:01\"], [\"20.2\", \"20/03/2020 10:02\"], [\"20.3\", \"20/03/2020 10:03\"], [\"20.4\", \"20/03/2020 10:04\"], [\"20.5\", \"20/03/2020 10:05\"], [\"20.6\", \"20/03/2020 10:06\"], [\"20.7\", \"20/03/2020 10:07\"], [\"20.8\", \"20/03/2020 10:08\"], [\"20.9\", \"20/03/2020 10:09\"], [\"21\", \"20/03/2020 10:10\"], [\"21.1\", \"20/03/2020 10:11\"], [\"21.2\", \"20/03/2020 10:12\"], [\"21.3\", \"20/03/2020 10:13\"], [\"21.4\", \"20/03/2020 10:14\"], [\"21.5\", \"20/03/2020 10:15\"], [\"21.6\", \"20/03/2020 10:16\"], [\"21.7\", \"20/03/2020 10:17\"], [\"21.8\", \"20/03/2020 10:18\"], [\"21.9\", \"20/03/2020 10:19\"], [\"22\", \"20/03/2020 10:20\"], [\"22.1\", \"20/03/2020 10:21\"], [\"22.2\", \"20/03/2020 10:22\"], [\"22.3\", \"20/03/2020 10:23\"], [\"22.4\", \"20/03/2020 10:24\"], [\"22.5\", \"20/03/2020 10:25\"], [\"22.6\", \"20/03/2020 10:26\"], [\"22.7\", \"20/03/2020 10:27\"], [\"22.8\", \"20/03/2020 10:28\"], [\"22.9\", \"20/03/2020 10:29\"], [\"23\", \"20/03/2020 10:30\"], [\"23.1\", \"20/03/2020 10:31\"], [\"23.2\", \"20/03/2020 10:32\"], [\"23.3\", \"20/03/2020 10:33\"], [\"23.4\", \"20/03/2020 10:34\"], [\"23.5\", \"20/03/2020 10:35\"], [\"23.6\", \"20/03/2020 10:36\"], [\"23.7\", \"20/03/2020 10:37\"], [\"23.8\", \"20/03/2020 10:38\"], [\"23.9\", \"20/03/2020 10:39\"], [\"24\", \"20/03/2020 10:40\"], [\"24.1\", \"20/03/2020 10:41\"], [\"24.2\", \"20/03/2020 10:42\"], [\"24.3\", \"20/03/2020 10:43\"], [\"24.4\", \"20/03/2020 10:44\"], [\"24.5\", \"20/03/2020 10:45\"], [\"24.6\", \"20/03/2020 10:46\"], [\"24.7\", \"20/03/2020 10:47\"], [\"24.8\", \"20/03/2020 10:48\"], [\"24.9\", \"20/03/2020 10:49\"], [\"25\", \"20/03/2020 10:50\"], [\"25.1\", \"20/03/2020 10:51\"], [\"25.2\", \"20/03/2020 10:52\"], [\"25.3\", \"20/03/2020 10:53\"], [\"25.4\", \"20/03/2020 10:54\"], [\"25.5\", \"20/03/2020 10:55\"], [\"25.6\", \"20/03/2020 10:56\"], [\"25.7\", \"20/03/2020 10:57\"], [\"25.8\", \"20/03/2020 10:58\"], [\"25.9\", \"20/03/2020 10:59\"], [\"26\", \"20/03/2020 11:00\"], [\"26.1\", \"20/03/2020 11:01\"], [\"26.2\", \"20/03/2020 11:02\"], [\"26.3\", \"20/03/2020 11:03\"], [\"26.4\", \"20/03/2020 11:04\"], [\"26.5\", \"20/03/2020 11:05\"], [\"26.6\", \"20/03/2020 11:06\"], [\"26.7\", \"20/03/2020 11:07\"], [\"26.8\", \"20/03/2020 11:08\"], [\"26.9\", \"20/03/2020 11:09\"], [\"27\", \"20/03/2020 11:10\"], [\"27.1\", \"20/03/2020 11:11\"], [\"27.2\", \"20/03/2020 11:12\"], [\"27.3\", \"20/03/2020 11:13\"], [\"27.4\", \"20/03/2020 11:14\"], [\"27.5\", \"20/03/2020 11:15\"], [\"27.6\", \"20/03/2020 11:16\"], [\"27.7\", \"20/03/2020 11:17\"], [\"27.8\", \"20/03/2020 11:18\"], [\"27.9\", \"20/03/2020 11:19\"], [\"28\", \"20/03/2020 11:20\"], [\"28.1\", \"20/03/2020 11:21\"], [\"28.2\", \"20/03/2020 11:22\"], [\"28.3\", \"20/03/2020 11:23\"], [\"28.4\", \"20/03/2020 11:24\"], [\"28.5\", \"20/03/2020 11:25\"], [\"28.6\", \"20/03/2020 11:26\"], [\"28.7\", \"20/03/2020 11:27\"], [\"28.8\", \"20/03/2020 11:28\"], [\"28.9\", \"20/03/2020 11:29\"], [\"29\", \"20/03/2020 11:30\"], [\"29.1\", \"20/03/2020 11:31\"], [\"29.2\", \"20/03/2020 11:32\"], [\"29.3\", \"20/03/2020 11:33\"], [\"29.4\", \"20/03/2020 11:34\"], [\"29.5\", \"20/03/2020 11:35\"], [\"29.6\", \"20/03/2020 11:36\"], [\"29.7\", \"20/03/2020 11:37\"], [\"29.8\", \"20/03/2020 11:38\"], [\"29.9\", \"20/03/2020 11:39\"], [\"30\", \"20/03/2020 11:40\"], [\"29.9\", \"20/03/2020 11:41\"], [\"29.8\", \"20/03/2020 11:42\"], [\"29.7\", \"20/03/2020 11:43\"], [\"29.6\", \"20/03/2020 11:44\"], [\"29.5\", \"20/03/2020 11:45\"], [\"29.4\", \"20/03/2020 11:46\"], [\"29.3\", \"20/03/2020 11:47\"], [\"29.2\", \"20/03/2020 11:48\"], [\"29.1\", \"20/03/2020 11:49\"], [\"29\", \"20/03/2020 11:50\"], [\"28.9\", \"20/03/2020 11:51\"], [\"28.8\", \"20/03/2020 11:52\"], [\"28.7\", \"20/03/2020 11:53\"], [\"28.6\", \"20/03/2020 11:54\"], [\"28.5\", \"20/03/2020 11:55\"], [\"28.4\", \"20/03/2020 11:56\"], [\"28.3\", \"20/03/2020 11:57\"], [\"28.2\", \"20/03/2020 11:58\"], [\"28.1\", \"20/03/2020 11:59\"], [\"28\", \"20/03/2020 12:00\"], [\"27.9\", \"20/03/2020 12:01\"], [\"27.8\", \"20/03/2020 12:02\"], [\"27.7\", \"20/03/2020 12:03\"], [\"27.6\", \"20/03/2020 12:04\"], [\"27.5\", \"20/03/2020 12:05\"], [\"27.4\", \"20/03/2020 12:06\"], [\"27.3\", \"20/03/2020 12:07\"], [\"27.2\", \"20/03/2020 12:08\"], [\"27.1\", \"20/03/2020 12:09\"], [\"27\", \"20/03/2020 12:10\"], [\"26.9\", \"20/03/2020 12:11\"], [\"26.8\", \"20/03/2020 12:12\"], [\"26.7\", \"20/03/2020 12:13\"], [\"26.6\", \"20/03/2020 12:14\"], [\"26.5\", \"20/03/2020 12:15\"], [\"26.4\", \"20/03/2020 12:16\"], [\"26.3\", \"20/03/2020 12:17\"], [\"26.2\", \"20/03/2020 12:18\"], [\"26.1\", \"20/03/2020 12:19\"], [\"26\", \"20/03/2020 12:20\"], [\"25.9\", \"20/03/2020 12:21\"], [\"25.8\", \"20/03/2020 12:22\"], [\"25.7\", \"20/03/2020 12:23\"], [\"25.6\", \"20/03/2020 12:24\"], [\"25.5\", \"20/03/2020 12:25\"], [\"25.4\", \"20/03/2020 12:26\"], [\"25.3\", \"20/03/2020 12:27\"], [\"25.2\", \"20/03/2020 12:28\"], [\"25.4\", \"20/03/2020 12:29\"], [\"25.6\", \"20/03/2020 12:30\"], [\"25.8\", \"20/03/2020 12:31\"], [\"26\", \"20/03/2020 12:32\"], [\"26.2\", \"20/03/2020 12:33\"], [\"26.4\", \"20/03/2020 12:34\"], [\"26.6\", \"20/03/2020 12:35\"], [\"26.8\", \"20/03/2020 12:36\"], [\"27\", \"20/03/2020 12:37\"], [\"27.2\", \"20/03/2020 12:38\"], [\"27.4\", \"20/03/2020 12:39\"], [\"27.6\", \"20/03/2020 12:40\"], [\"27.8\", \"20/03/2020 12:41\"], [\"28\", \"20/03/2020 12:42\"], [\"28.2\", \"20/03/2020 12:43\"], [\"28.4\", \"20/03/2020 12:44\"], [\"28.6\", \"20/03/2020 12:45\"], [\"28.8\", \"20/03/2020 12:46\"], [\"29\", \"20/03/2020 12:47\"], [\"29.2\", \"20/03/2020 12:48\"], [\"29.4\", \"20/03/2020 12:49\"], [\"29.6\", \"20/03/2020 12:50\"], [\"29.8\", \"20/03/2020 12:51\"], [\"30\", \"20/03/2020 12:52\"], [\"30.2\", \"20/03/2020 12:53\"], [\"30.4\", \"20/03/2020 12:54\"], [\"30.6\", \"20/03/2020 12:55\"], [\"30.8\", \"20/03/2020 12:56\"], [\"31\", \"20/03/2020 12:57\"], [\"31.2\", \"20/03/2020 12:58\"], [\"31.4\", \"20/03/2020 12:59\"], [\"31.6\", \"20/03/2020 13:00\"], [\"31.8\", \"20/03/2020 13:01\"], [\"32\", \"20/03/2020 13:02\"], [\"32.2\", \"20/03/2020 13:03\"], [\"32.4\", \"20/03/2020 13:04\"], [\"32.6\", \"20/03/2020 13:05\"], [\"32.8\", \"20/03/2020 13:06\"], [\"33\", \"20/03/2020 13:07\"], [\"33.2\", \"20/03/2020 13:08\"], [\"33.4\", \"20/03/2020 13:09\"], [\"33.6\", \"20/03/2020 13:10\"], [\"33.8\", \"20/03/2020 13:11\"], [\"34\", \"20/03/2020 13:12\"], [\"34.2\", \"20/03/2020 13:13\"], [\"34.4\", \"20/03/2020 13:14\"], [\"34.6\", \"20/03/2020 13:15\"], [\"34.8\", \"20/03/2020 13:16\"], [\"35\", \"20/03/2020 13:17\"], [\"35.2\", \"20/03/2020 13:18\"], [\"35.4\", \"20/03/2020 13:19\"], [\"\", null]]'"
      ]
     },
     "execution_count": 82,
     "metadata": {},
     "output_type": "execute_result"
    }
   ],
   "source": [
    "getdata()"
   ]
  },
  {
   "cell_type": "code",
   "execution_count": 21,
   "metadata": {},
   "outputs": [
    {
     "name": "stdout",
     "output_type": "stream",
     "text": [
      "else\n",
      "[]\n"
     ]
    }
   ],
   "source": [
    "import pymongo\n",
    "\n",
    "conn = pymongo.MongoClient('mongodb://192.168.20.15', 27017)\n",
    "db = conn.brewpiless\n",
    "collection = db.yeast    \n",
    "    \n",
    "\n",
    "yeastname = '' \n",
    "yeasttype = 'ale'\n",
    "ret = ''     \n",
    "\n",
    "if yeastname == '' and yeasttype == '':\n",
    "   #busca tudo  \n",
    "   ret = list(collection.find({}, {'name': 1, 'description':1, 'yeastType':1, 'attenuationMin':1, 'attenuationMax':1, 'fermentTempMin':1, 'fermentTempMax':1, 'alcoholToleranceMin':1, 'alcoholToleranceMax':1, 'supplier':1, 'yeastFormat':1}))                     \n",
    "   print(ret)           \n",
    "   print('if')\n",
    "elif yeastname != '':\n",
    "   #busca NAME        \n",
    "   print('elif')           \n",
    "   ret = list(collection.find_one({\"yeastName\": yeastname}, {'name': 1, 'description':1, 'yeastType':1, 'attenuationMin':1, 'attenuationMax':1, 'fermentTempMin':1, 'fermentTempMax':1, 'alcoholToleranceMin':1, 'alcoholToleranceMax':1, 'supplier':1, 'yeastFormat':1})) \n",
    "   print(type(ret))\n",
    "   print(ret)\n",
    "else:\n",
    "#busca Style\n",
    "   print('else')        \n",
    "   ret = list(collection.find({\"yeasttype\": yeasttype}, {'name': 1, 'description':1, 'yeastType':1, 'attenuationMin':1, 'attenuationMax':1, 'fermentTempMin':1, 'fermentTempMax':1, 'alcoholToleranceMin':1, 'alcoholToleranceMax':1, 'supplier':1, 'yeastFormat':1}))\n",
    "   print(ret)                       "
   ]
  },
  {
   "cell_type": "code",
   "execution_count": 29,
   "metadata": {},
   "outputs": [
    {
     "name": "stdout",
     "output_type": "stream",
     "text": [
      "/n/n/n/n/n/n/n\n",
      "[{'_id': ObjectId('5e81464f3fb4516414b7daae'), 'name': 'British Ale', 'description': 'This yeast is a little more attenuative than WLP002. Like most English strains, this yeast produces malty beers. Excellent for all English style ales including bitter, pale ale, porter, and brown ale.', 'yeastType': 'ale', 'attenuationMin': 67, 'attenuationMax': 74, 'fermentTempMin': 65, 'fermentTempMax': 70, 'alcoholToleranceMin': 5, 'alcoholToleranceMax': 10, 'productId': 'WLP005', 'supplier': 'White Labs', 'yeastFormat': 'liquid', 'createDate': '2013-06-24 16:09:01'}]\n"
     ]
    }
   ],
   "source": [
    "\n",
    "conn = pymongo.MongoClient('mongodb://192.168.20.15', 27017)\n",
    "db = conn.brewpiless\n",
    "collection = db.yeast    \n",
    "yeastname = 'British Ale' \n",
    "yeasttype = 'lager' \n",
    "#ret = list(collection.find({\"yeastType\": yeasttype}))\n",
    "#print(ret)\n",
    "print('/n/n/n/n/n/n/n')\n",
    "ret = list(collection.find({\"name\": yeastname}))\n",
    "print(ret)"
   ]
  },
  {
   "cell_type": "code",
   "execution_count": 35,
   "metadata": {},
   "outputs": [
    {
     "ename": "NameError",
     "evalue": "name 'ObjectId' is not defined",
     "output_type": "error",
     "traceback": [
      "\u001b[1;31m---------------------------------------------------------------------------\u001b[0m",
      "\u001b[1;31mNameError\u001b[0m                                 Traceback (most recent call last)",
      "\u001b[1;32m<ipython-input-35-7bbac622349a>\u001b[0m in \u001b[0;36m<module>\u001b[1;34m\u001b[0m\n\u001b[0;32m      5\u001b[0m \u001b[1;33m\u001b[0m\u001b[0m\n\u001b[0;32m      6\u001b[0m \u001b[1;32mif\u001b[0m \u001b[0murlid\u001b[0m\u001b[1;33m:\u001b[0m\u001b[1;33m\u001b[0m\u001b[1;33m\u001b[0m\u001b[0m\n\u001b[1;32m----> 7\u001b[1;33m     \u001b[0md\u001b[0m \u001b[1;33m=\u001b[0m \u001b[0mcollection\u001b[0m\u001b[1;33m.\u001b[0m\u001b[0mfind\u001b[0m\u001b[1;33m(\u001b[0m\u001b[0mObjectId\u001b[0m\u001b[1;33m(\u001b[0m\u001b[1;34m\"5e81b55836991f9641d3bada\"\u001b[0m\u001b[1;33m)\u001b[0m\u001b[1;33m)\u001b[0m\u001b[1;33m\u001b[0m\u001b[1;33m\u001b[0m\u001b[0m\n\u001b[0m\u001b[0;32m      8\u001b[0m     \u001b[0mprint\u001b[0m\u001b[1;33m(\u001b[0m\u001b[0md\u001b[0m\u001b[1;33m)\u001b[0m\u001b[1;33m\u001b[0m\u001b[1;33m\u001b[0m\u001b[0m\n\u001b[0;32m      9\u001b[0m \u001b[1;32melse\u001b[0m\u001b[1;33m:\u001b[0m\u001b[1;33m\u001b[0m\u001b[1;33m\u001b[0m\u001b[0m\n",
      "\u001b[1;31mNameError\u001b[0m: name 'ObjectId' is not defined"
     ]
    }
   ],
   "source": [
    "\n",
    "conn = pymongo.MongoClient('mongodb://192.168.20.15', 27017)\n",
    "db = conn.brewpiless\n",
    "collection = db.beer    \n",
    "urlid='5e81b55836991f9641d3bada' \n",
    "\n",
    "if urlid:\n",
    "    d = collection.find(ObjectId(\"5e81b55836991f9641d3bada\"))\n",
    "    print(d)\n",
    "else:\n",
    "    print(\"nao achou\")\n",
    "\n",
    "\n"
   ]
  },
  {
   "cell_type": "code",
   "execution_count": null,
   "metadata": {},
   "outputs": [],
   "source": []
  }
 ],
 "metadata": {
  "kernelspec": {
   "display_name": "Python 3",
   "language": "python",
   "name": "python3"
  },
  "language_info": {
   "codemirror_mode": {
    "name": "ipython",
    "version": 3
   },
   "file_extension": ".py",
   "mimetype": "text/x-python",
   "name": "python",
   "nbconvert_exporter": "python",
   "pygments_lexer": "ipython3",
   "version": "3.7.4"
  }
 },
 "nbformat": 4,
 "nbformat_minor": 4
}
